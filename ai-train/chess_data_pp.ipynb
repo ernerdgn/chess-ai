{
  "cells": [
    {
      "cell_type": "markdown",
      "metadata": {
        "id": "ehzjG3JtT69L"
      },
      "source": [
        "Access to google drive"
      ]
    },
    {
      "cell_type": "code",
      "execution_count": 1,
      "metadata": {
        "colab": {
          "base_uri": "https://localhost:8080/"
        },
        "id": "MPHAq4N2TkhR",
        "outputId": "22fe6479-6c75-473d-f7c3-ff6d998caf4b"
      },
      "outputs": [
        {
          "name": "stdout",
          "output_type": "stream",
          "text": [
            "Mounted at /content/drive\n"
          ]
        }
      ],
      "source": [
        "from google.colab import drive\n",
        "drive.mount('/content/drive')"
      ]
    },
    {
      "cell_type": "code",
      "execution_count": 2,
      "metadata": {
        "colab": {
          "base_uri": "https://localhost:8080/"
        },
        "id": "CLg7l9XmT-Bb",
        "outputId": "68cd1b99-0f8e-47a9-96c8-c8b8aaa4183e"
      },
      "outputs": [
        {
          "name": "stdout",
          "output_type": "stream",
          "text": [
            "Collecting python-chess\n",
            "  Downloading python_chess-1.999-py3-none-any.whl.metadata (776 bytes)\n",
            "Collecting chess<2,>=1 (from python-chess)\n",
            "  Downloading chess-1.11.2.tar.gz (6.1 MB)\n",
            "\u001b[2K     \u001b[90m━━━━━━━━━━━━━━━━━━━━━━━━━━━━━━━━━━━━━━━━\u001b[0m \u001b[32m6.1/6.1 MB\u001b[0m \u001b[31m54.9 MB/s\u001b[0m eta \u001b[36m0:00:00\u001b[0m\n",
            "\u001b[?25h  Preparing metadata (setup.py) ... \u001b[?25l\u001b[?25hdone\n",
            "Downloading python_chess-1.999-py3-none-any.whl (1.4 kB)\n",
            "Building wheels for collected packages: chess\n",
            "  Building wheel for chess (setup.py) ... \u001b[?25l\u001b[?25hdone\n",
            "  Created wheel for chess: filename=chess-1.11.2-py3-none-any.whl size=147775 sha256=19af29927650f09f8a75aee69f52a71a45bfe14bb1f4de696f3485eaa39f3b56\n",
            "  Stored in directory: /root/.cache/pip/wheels/83/1f/4e/8f4300f7dd554eb8de70ddfed96e94d3d030ace10c5b53d447\n",
            "Successfully built chess\n",
            "Installing collected packages: chess, python-chess\n",
            "Successfully installed chess-1.11.2 python-chess-1.999\n",
            "Collecting stockfish\n",
            "  Downloading stockfish-3.28.0-py3-none-any.whl.metadata (12 kB)\n",
            "Downloading stockfish-3.28.0-py3-none-any.whl (13 kB)\n",
            "Installing collected packages: stockfish\n",
            "Successfully installed stockfish-3.28.0\n",
            "Hit:1 http://archive.ubuntu.com/ubuntu jammy InRelease\n",
            "Get:2 http://security.ubuntu.com/ubuntu jammy-security InRelease [129 kB]\n",
            "Hit:3 https://cli.github.com/packages stable InRelease\n",
            "Hit:4 https://developer.download.nvidia.com/compute/cuda/repos/ubuntu2204/x86_64  InRelease\n",
            "Get:5 http://archive.ubuntu.com/ubuntu jammy-updates InRelease [128 kB]\n",
            "Get:6 https://r2u.stat.illinois.edu/ubuntu jammy InRelease [6,555 B]\n",
            "Get:7 http://archive.ubuntu.com/ubuntu jammy-backports InRelease [127 kB]\n",
            "Get:8 http://security.ubuntu.com/ubuntu jammy-security/main amd64 Packages [3,473 kB]\n",
            "Hit:9 https://ppa.launchpadcontent.net/deadsnakes/ppa/ubuntu jammy InRelease\n",
            "Get:10 https://r2u.stat.illinois.edu/ubuntu jammy/main amd64 Packages [2,816 kB]\n",
            "Get:11 https://cloud.r-project.org/bin/linux/ubuntu jammy-cran40/ InRelease [3,632 B]\n",
            "Hit:12 https://ppa.launchpadcontent.net/graphics-drivers/ppa/ubuntu jammy InRelease\n",
            "Get:13 http://archive.ubuntu.com/ubuntu jammy-updates/main amd64 Packages [3,799 kB]\n",
            "Hit:14 https://ppa.launchpadcontent.net/ubuntugis/ppa/ubuntu jammy InRelease\n",
            "Get:15 https://r2u.stat.illinois.edu/ubuntu jammy/main all Packages [9,389 kB]\n",
            "Get:16 http://archive.ubuntu.com/ubuntu jammy-updates/universe amd64 Packages [1,594 kB]\n",
            "Fetched 21.5 MB in 2s (10.7 MB/s)\n",
            "Reading package lists... Done\n",
            "W: Skipping acquire of configured file 'main/source/Sources' as repository 'https://r2u.stat.illinois.edu/ubuntu jammy InRelease' does not seem to provide it (sources.list entry misspelt?)\n",
            "Reading package lists... Done\n",
            "Building dependency tree... Done\n",
            "Reading state information... Done\n",
            "Suggested packages:\n",
            "  polyglot xboard | scid\n",
            "The following NEW packages will be installed:\n",
            "  stockfish\n",
            "0 upgraded, 1 newly installed, 0 to remove and 38 not upgraded.\n",
            "Need to get 24.8 MB of archives.\n",
            "After this operation, 47.4 MB of additional disk space will be used.\n",
            "Get:1 http://archive.ubuntu.com/ubuntu jammy/universe amd64 stockfish amd64 14.1-1 [24.8 MB]\n",
            "Fetched 24.8 MB in 1s (49.2 MB/s)\n",
            "Selecting previously unselected package stockfish.\n",
            "(Reading database ... 126718 files and directories currently installed.)\n",
            "Preparing to unpack .../stockfish_14.1-1_amd64.deb ...\n",
            "Unpacking stockfish (14.1-1) ...\n",
            "Setting up stockfish (14.1-1) ...\n",
            "Processing triggers for man-db (2.10.2-1) ...\n"
          ]
        }
      ],
      "source": [
        "!pip install python-chess\n",
        "!pip install stockfish\n",
        "!apt-get update && apt-get install -y stockfish # stockfish engine binary"
      ]
    },
    {
      "cell_type": "markdown",
      "metadata": {
        "id": "Y2RppHerV3BS"
      },
      "source": [
        "Try to reach the PGN files and read them"
      ]
    },
    {
      "cell_type": "code",
      "execution_count": null,
      "metadata": {
        "colab": {
          "base_uri": "https://localhost:8080/"
        },
        "id": "j6Zs4dvqT_AZ",
        "outputId": "790cf85c-2aca-46bd-c3e1-338959fcac6e"
      },
      "outputs": [
        {
          "name": "stdout",
          "output_type": "stream",
          "text": [
            "read successful! first game: \n",
            "white Thomason, J.\n",
            "black Fischer, Robert James\n",
            "result 0-1\n",
            "\n",
            " =======MOVES: \n",
            "d4\n",
            "Nf6\n",
            "c4\n",
            "g6\n",
            "Nc3\n",
            "Bg7\n",
            "e4\n",
            "d6\n",
            "Nf3\n",
            "O-O\n",
            "Bd3\n",
            "Bg4\n",
            "O-O\n",
            "Nc6\n",
            "Be3\n",
            "Nd7\n",
            "Be2\n",
            "Bxf3\n",
            "Bxf3\n",
            "e5\n",
            "d5\n",
            "Ne7\n",
            "Be2\n",
            "f5\n",
            "f4\n",
            "h6\n",
            "Bd3\n",
            "Kh7\n",
            "Qe2\n",
            "fxe4\n",
            "Nxe4\n",
            "Nf5\n",
            "Bd2\n",
            "exf4\n",
            "Bxf4\n",
            "Ne5\n",
            "Bc2\n",
            "Nd4\n",
            "Qd2\n",
            "Nxc4\n",
            "Qf2\n",
            "Rxf4\n",
            "Qxf4\n",
            "Ne2+\n",
            "Kh1\n",
            "Nxf4\n"
          ]
        }
      ],
      "source": [
        "import chess.pgn\n",
        "\n",
        "pgn_file_path = \"/content/drive/MyDrive/chess_games/Fischer.pgn\"\n",
        "\n",
        "try:\n",
        "  pgn = open(pgn_file_path)\n",
        "\n",
        "  first_game = chess.pgn.read_game(pgn)\n",
        "\n",
        "  if first_game:\n",
        "    print(\"read successful! first game: \")\n",
        "    print(f\"white {first_game.headers['White']}\")\n",
        "    print(f\"black {first_game.headers['Black']}\")\n",
        "    print(f\"result {first_game.headers['Result']}\")\n",
        "\n",
        "    print(\"\\n =======MOVES: \")\n",
        "    board = first_game.board()\n",
        "    for move in first_game.mainline_moves():\n",
        "      print(board.san(move))\n",
        "      board.push(move)\n",
        "  else:\n",
        "    print(\"cant read the game from the file\")\n",
        "  pgn.close()\n",
        "\n",
        "except FileNotFoundError:\n",
        "  print(f\"file not found: {pgn_file_path}\")"
      ]
    },
    {
      "cell_type": "markdown",
      "metadata": {
        "id": "qVWKcdEMV6kX"
      },
      "source": [
        "Preprocessing"
      ]
    },
    {
      "cell_type": "code",
      "execution_count": 3,
      "metadata": {
        "colab": {
          "base_uri": "https://localhost:8080/"
        },
        "id": "vV_J54dRV6GX",
        "outputId": "d1ef0bb3-4805-47ae-a0fc-c3ccba94f9e5"
      },
      "outputs": [
        {
          "name": "stdout",
          "output_type": "stream",
          "text": [
            "stockfish engine initialized... /usr/games/stockfish\n",
            "stockfish params: {'Debug Log File': '', 'Contempt': 0, 'Min Split Depth': 0, 'Ponder': 'false', 'MultiPV': 1, 'Skill Level': 20, 'Move Overhead': 10, 'Minimum Thinking Time': 20, 'Slow Mover': 100, 'UCI_Chess960': 'false', 'UCI_LimitStrength': 'false', 'UCI_Elo': 1350, 'Threads': 1, 'Hash': 16}\n"
          ]
        }
      ],
      "source": [
        "import chess.pgn\n",
        "import torch\n",
        "import os\n",
        "import time\n",
        "from stockfish import Stockfish\n",
        "\n",
        "# config\n",
        "DRIVE_BASE_PATH = \"/content/drive/MyDrive/chess_games/\" # games folder path\n",
        "\n",
        "pgn_files = [ # get pgns\n",
        "    # \"Carlsen.pgn\"\n",
        "    # \"Caruana.pgn\",\n",
        "    # \"Firouzja.pgn\"\n",
        "    # \"Fischer.pgn\",\n",
        "    # \"Karpov.pgn\",\n",
        "    \"Kasparov.pgn\"\n",
        "]\n",
        "\n",
        "OUTPUT_FILE_PATH = os.path.join(DRIVE_BASE_PATH, \"stockfished_dataset_kasparov.pt\") # output path\n",
        "\n",
        "stockfish_path = \"/usr/games/stockfish\"\n",
        "try:\n",
        "  stockfish = Stockfish(path=stockfish_path, depth=7, parameters={\"Skill Level\":20})\n",
        "  print(f\"stockfish engine initialized... {stockfish_path}\")\n",
        "  print(f\"stockfish params: {stockfish.get_parameters()}\")\n",
        "except Exception as e:\n",
        "  print(f\"ERROR stockfish init not succ. {e}\")\n",
        "  stockfish = None"
      ]
    },
    {
      "cell_type": "code",
      "execution_count": 4,
      "metadata": {
        "id": "nvI2C27BXJXt"
      },
      "outputs": [],
      "source": [
        "# dicts for a piece of mind\n",
        "piece_map = {\n",
        "    chess.PAWN: 0,\n",
        "    chess.KNIGHT: 1,\n",
        "    chess.BISHOP: 2,\n",
        "    chess.ROOK: 3,\n",
        "    chess.QUEEN: 4,\n",
        "    chess.KING: 5\n",
        "}\n",
        "\n",
        "# result_map = {\n",
        "#     \"1-0\": 1.0, # white\n",
        "#     \"0-1\": -1.0, # black\n",
        "#     \"1/2-1/2\": 0.0 # draw\n",
        "# }"
      ]
    },
    {
      "cell_type": "code",
      "execution_count": 5,
      "metadata": {
        "id": "mgOrfleOXNVt"
      },
      "outputs": [],
      "source": [
        "# converting python-chess board obj to a (12,8,8) tensor\n",
        "# channel 0-5 -> white pieces\n",
        "# channel 6-11 -> black pieces\n",
        "def vectorize_board(board):\n",
        "  board_tensor = torch.zeros(12, 8, 8, dtype=torch.float32)\n",
        "\n",
        "  for sq in chess.SQUARES:\n",
        "    piece = board.piece_at(sq)\n",
        "    if piece:\n",
        "      channel = piece_map[piece.piece_type]\n",
        "      if piece.color == chess.BLACK:\n",
        "        channel += 6\n",
        "\n",
        "      rank = chess.square_rank(sq)\n",
        "      file = chess.square_file(sq)\n",
        "\n",
        "      board_tensor[channel, rank, file] = 1.0\n",
        "  return board_tensor\n",
        "\n",
        "# converting result string to a tensor\n",
        "# def get_label(result_str):\n",
        "#   label = result_map.get(result_str)\n",
        "#   if label is not None:\n",
        "#     return torch.tensor([label], dtype=torch.float32)\n",
        "#   return None\n",
        "\n",
        "def get_stockfish_label(board, sf_instance):\n",
        "  if not sf_instance:\n",
        "    return None\n",
        "\n",
        "  try:\n",
        "    fen = board.fen()\n",
        "    sf_instance.set_fen_position(fen)\n",
        "\n",
        "    evaluation = sf_instance.get_evaluation()\n",
        "\n",
        "    score_cp = None\n",
        "\n",
        "    if evaluation['type'] == 'cp':\n",
        "      score_cp = evaluation['value']\n",
        "      if board.turn == chess.BLACK:\n",
        "        score_cp = -score_cp\n",
        "    elif evaluation['type'] == 'mate':\n",
        "      mate_value = evaluation['value']\n",
        "      if board.turn == chess.WHITE:\n",
        "        score_cp = 10000 if mate_value > 0 else -10000\n",
        "      else:\n",
        "        score_cp = -10000 if mate_value > 0 else 10000 # i like mate, so my model must love it too..\n",
        "\n",
        "    if score_cp is None:\n",
        "      print(f\"wtf is this eval type: {evaluation['type']}\")\n",
        "\n",
        "    normalized_score = torch.tanh(torch.tensor(score_cp / 600.0)).item()\n",
        "\n",
        "    return torch.tensor([normalized_score], dtype=torch.float32)\n",
        "\n",
        "  except Exception as e:\n",
        "    print(f\"ERROR cant get eval {e}, fen: {board.fen()}\")\n",
        "    import traceback\n",
        "    traceback.print_exc()\n",
        "    return None"
      ]
    },
    {
      "cell_type": "markdown",
      "metadata": {
        "id": "kVRkoBPeYa6Z"
      },
      "source": [
        "Processing Loop"
      ]
    },
    {
      "cell_type": "code",
      "execution_count": 6,
      "metadata": {
        "id": "98FIVWhdYWvl"
      },
      "outputs": [],
      "source": [
        "# main process\n",
        "def process_data():\n",
        "  global stockfish\n",
        "\n",
        "  if not stockfish:\n",
        "    print(\"cant reach stockfish engine, bye!\")\n",
        "    return\n",
        "\n",
        "  all_board_tensors = []\n",
        "  all_labels = []\n",
        "  game_count = 0\n",
        "  position_count = 0\n",
        "  start_time = time.time()\n",
        "\n",
        "  print(\"STARTING DATA PREPROCESSING... with STOCKFISH...\")\n",
        "\n",
        "  for pgn_filename in pgn_files:\n",
        "    file_path = os.path.join(DRIVE_BASE_PATH, pgn_filename)\n",
        "    if not os.path.exists(file_path):\n",
        "      print(f\"ERROR! file not found: {file_path}\")\n",
        "      continue\n",
        "\n",
        "    print(f\"\\nprocessing file: {pgn_filename}\")\n",
        "    pgn = open(file_path, encoding=\"utf-8\")\n",
        "\n",
        "    processed_in_file = 0 # counter for games in pgn\n",
        "\n",
        "    while True:\n",
        "      try:\n",
        "        game = chess.pgn.read_game(pgn)\n",
        "        if game is None:\n",
        "          break\n",
        "\n",
        "        # label = get_label(game.headers.get(\"Result\"))\n",
        "        # if label is None:\n",
        "        #   continue\n",
        "\n",
        "        game_count += 1\n",
        "        board = game.board()\n",
        "\n",
        "        for move in game.mainline_moves(): # loop every move of the game\n",
        "          board.push(move)\n",
        "\n",
        "          label = get_stockfish_label(board, stockfish)\n",
        "\n",
        "          if label is not None:\n",
        "            board_tensor = vectorize_board(board)\n",
        "            all_board_tensors.append(board_tensor)\n",
        "            all_labels.append(label)\n",
        "            position_count += 1\n",
        "\n",
        "        processed_in_file += 1\n",
        "        # if game_count % 100 == 0:\n",
        "        #   print(f\"processed {game_count} games.\\ntotal Positions: {position_count}\")\n",
        "        if processed_in_file % 50 == 0: # update every 100 games per file\n",
        "          current_time = time.time()\n",
        "          elapsed = current_time - start_time\n",
        "          print(f\">>processed {processed_in_file} games from {pgn_filename}...\"\n",
        "                f\"\\n>>>>total pos: {position_count}, elapsed {elapsed:.0f}s\")\n",
        "\n",
        "\n",
        "      except Exception as e:\n",
        "        print(f\"ERROR! reading a game {e}, skipping to the next game\")\n",
        "        continue\n",
        "    pgn.close()\n",
        "    print(f\"finished processing {pgn_filename}\")\n",
        "\n",
        "  end_time = time.time()\n",
        "  print(\"\\n==PREPROCESSING COMPLETE\")\n",
        "  print(f\"games processed: {game_count}\")\n",
        "  print(f\"total Pos: {position_count}\")\n",
        "  print(f\"total time: {end_time - start_time:.2f} seconds\")\n",
        "\n",
        "  print(\"===\")\n",
        "  print(\"\\nsaving dataset\")\n",
        "\n",
        "  try:\n",
        "    torch.save((all_board_tensors, all_labels), OUTPUT_FILE_PATH)\n",
        "    print(f\"save successfull, path: {OUTPUT_FILE_PATH}\")\n",
        "  except Exception as e:\n",
        "    print(f\"ERROR! saving dataset. {e}\")"
      ]
    },
    {
      "cell_type": "code",
      "execution_count": 7,
      "metadata": {
        "colab": {
          "base_uri": "https://localhost:8080/"
        },
        "id": "Qmxs0o7KbVhc",
        "outputId": "a512a684-aeec-481f-a6b6-6be51904e786"
      },
      "outputs": [
        {
          "name": "stdout",
          "output_type": "stream",
          "text": [
            "STARTING DATA PREPROCESSING... with STOCKFISH...\n",
            "\n",
            "processing file: Kasparov.pgn\n",
            ">>processed 50 games from Kasparov.pgn...\n",
            ">>>>total pos: 3522, elapsed 31s\n",
            ">>processed 100 games from Kasparov.pgn...\n",
            ">>>>total pos: 7247, elapsed 65s\n",
            ">>processed 150 games from Kasparov.pgn...\n",
            ">>>>total pos: 10895, elapsed 95s\n",
            ">>processed 200 games from Kasparov.pgn...\n",
            ">>>>total pos: 14373, elapsed 124s\n",
            ">>processed 250 games from Kasparov.pgn...\n",
            ">>>>total pos: 17716, elapsed 152s\n",
            ">>processed 300 games from Kasparov.pgn...\n",
            ">>>>total pos: 21303, elapsed 185s\n",
            ">>processed 350 games from Kasparov.pgn...\n",
            ">>>>total pos: 24901, elapsed 217s\n",
            ">>processed 400 games from Kasparov.pgn...\n",
            ">>>>total pos: 28766, elapsed 250s\n",
            ">>processed 450 games from Kasparov.pgn...\n",
            ">>>>total pos: 32694, elapsed 282s\n",
            ">>processed 500 games from Kasparov.pgn...\n",
            ">>>>total pos: 36871, elapsed 318s\n",
            ">>processed 550 games from Kasparov.pgn...\n",
            ">>>>total pos: 40668, elapsed 351s\n",
            ">>processed 600 games from Kasparov.pgn...\n",
            ">>>>total pos: 44401, elapsed 384s\n",
            ">>processed 650 games from Kasparov.pgn...\n",
            ">>>>total pos: 48188, elapsed 417s\n",
            ">>processed 700 games from Kasparov.pgn...\n",
            ">>>>total pos: 52576, elapsed 453s\n",
            ">>processed 750 games from Kasparov.pgn...\n",
            ">>>>total pos: 56585, elapsed 485s\n",
            ">>processed 800 games from Kasparov.pgn...\n",
            ">>>>total pos: 60409, elapsed 519s\n",
            ">>processed 850 games from Kasparov.pgn...\n",
            ">>>>total pos: 64157, elapsed 548s\n",
            ">>processed 900 games from Kasparov.pgn...\n",
            ">>>>total pos: 68029, elapsed 582s\n",
            ">>processed 950 games from Kasparov.pgn...\n",
            ">>>>total pos: 71953, elapsed 616s\n",
            ">>processed 1000 games from Kasparov.pgn...\n",
            ">>>>total pos: 76055, elapsed 650s\n",
            ">>processed 1050 games from Kasparov.pgn...\n",
            ">>>>total pos: 79877, elapsed 682s\n",
            ">>processed 1100 games from Kasparov.pgn...\n",
            ">>>>total pos: 83897, elapsed 716s\n",
            ">>processed 1150 games from Kasparov.pgn...\n",
            ">>>>total pos: 87490, elapsed 747s\n",
            ">>processed 1200 games from Kasparov.pgn...\n",
            ">>>>total pos: 91097, elapsed 777s\n",
            ">>processed 1250 games from Kasparov.pgn...\n",
            ">>>>total pos: 94785, elapsed 807s\n",
            ">>processed 1300 games from Kasparov.pgn...\n",
            ">>>>total pos: 99449, elapsed 847s\n",
            ">>processed 1350 games from Kasparov.pgn...\n",
            ">>>>total pos: 103010, elapsed 877s\n",
            ">>processed 1400 games from Kasparov.pgn...\n",
            ">>>>total pos: 106763, elapsed 907s\n",
            ">>processed 1450 games from Kasparov.pgn...\n",
            ">>>>total pos: 111030, elapsed 943s\n",
            ">>processed 1500 games from Kasparov.pgn...\n",
            ">>>>total pos: 114838, elapsed 975s\n",
            ">>processed 1550 games from Kasparov.pgn...\n",
            ">>>>total pos: 118907, elapsed 1007s\n",
            ">>processed 1600 games from Kasparov.pgn...\n",
            ">>>>total pos: 122863, elapsed 1040s\n",
            ">>processed 1650 games from Kasparov.pgn...\n",
            ">>>>total pos: 126257, elapsed 1069s\n",
            ">>processed 1700 games from Kasparov.pgn...\n",
            ">>>>total pos: 130070, elapsed 1104s\n",
            ">>processed 1750 games from Kasparov.pgn...\n",
            ">>>>total pos: 133765, elapsed 1137s\n",
            ">>processed 1800 games from Kasparov.pgn...\n",
            ">>>>total pos: 137849, elapsed 1174s\n",
            ">>processed 1850 games from Kasparov.pgn...\n",
            ">>>>total pos: 142018, elapsed 1210s\n",
            ">>processed 1900 games from Kasparov.pgn...\n",
            ">>>>total pos: 145850, elapsed 1245s\n",
            "ERROR! reading a game 'utf-8' codec can't decode byte 0x82 in position 1891: invalid start byte, skipping to the next game\n",
            ">>processed 1950 games from Kasparov.pgn...\n",
            ">>>>total pos: 149580, elapsed 1276s\n",
            ">>processed 2000 games from Kasparov.pgn...\n",
            ">>>>total pos: 153423, elapsed 1307s\n",
            ">>processed 2050 games from Kasparov.pgn...\n",
            ">>>>total pos: 157101, elapsed 1337s\n",
            ">>processed 2100 games from Kasparov.pgn...\n",
            ">>>>total pos: 161140, elapsed 1370s\n",
            "finished processing Kasparov.pgn\n",
            "\n",
            "==PREPROCESSING COMPLETE\n",
            "games processed: 2114\n",
            "total Pos: 161951\n",
            "total time: 1377.56 seconds\n",
            "===\n",
            "\n",
            "saving dataset\n",
            "save successfull, path: /content/drive/MyDrive/chess_games/stockfished_dataset_kasparov.pt\n"
          ]
        }
      ],
      "source": [
        "process_data()"
      ]
    }
  ],
  "metadata": {
    "colab": {
      "provenance": []
    },
    "kernelspec": {
      "display_name": "Python 3",
      "name": "python3"
    },
    "language_info": {
      "name": "python"
    }
  },
  "nbformat": 4,
  "nbformat_minor": 0
}
